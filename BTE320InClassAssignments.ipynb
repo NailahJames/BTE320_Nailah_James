{
  "cells": [
    {
      "cell_type": "markdown",
      "metadata": {
        "id": "view-in-github",
        "colab_type": "text"
      },
      "source": [
        "<a href=\"https://colab.research.google.com/github/NailahJames/BTE320_Nailah_James/blob/main/BTE320InClassAssignments.ipynb\" target=\"_parent\"><img src=\"https://colab.research.google.com/assets/colab-badge.svg\" alt=\"Open In Colab\"/></a>"
      ]
    },
    {
      "cell_type": "code",
      "execution_count": null,
      "metadata": {
        "colab": {
          "base_uri": "https://localhost:8080/"
        },
        "id": "spqeNmaajhlz",
        "outputId": "46b4b509-7914-4a62-8588-5d0f7e831ba7"
      },
      "outputs": [
        {
          "name": "stdout",
          "output_type": "stream",
          "text": [
            "Enter sales ($): 12000\n",
            "Enter Cost of Goods Sold (%): 40\n",
            "Cost of Goods Sold: $4800.0\n",
            "Gross Profit: $7200.0\n"
          ]
        }
      ],
      "source": [
        "#---Inputs: Sales and Cogs_pct\n",
        "sales = input(\"Enter sales ($): \")\n",
        "sales = float(sales)\n",
        "\n",
        "\n",
        "cogs_pct = input(\"Enter Cost of Goods Sold (%): \" )\n",
        "cogs_pct = float(cogs_pct)\n",
        "\n",
        "#---Processes: Calculate Actual Cost of Goods Sold\n",
        "cogs = sales * cogs_pct / 100\n",
        "grossProfit = sales - cogs\n",
        "\n",
        "\n",
        "#Output: Display Cogs and Gross Profit\n",
        "print(f\"Cost of Goods Sold: ${cogs}\")\n",
        "print(f\"Gross Profit: ${grossProfit}\")"
      ]
    },
    {
      "cell_type": "code",
      "execution_count": null,
      "metadata": {
        "colab": {
          "base_uri": "https://localhost:8080/"
        },
        "id": "pl_cFGHZl5aK",
        "outputId": "bbf4009b-8f7a-4da9-dda5-c126a14c2b4f"
      },
      "outputs": [
        {
          "name": "stdout",
          "output_type": "stream",
          "text": [
            "Enter Tax Rate (%): 30\n",
            "Sales: $12000.0\n",
            "Cost of Goods Sold: $4800.0\n",
            "Gross Profit: $7200.0\n",
            "Tax: $2160.0\n",
            "Net Income: $5040.0\n"
          ]
        }
      ],
      "source": [
        "#---Inputs\n",
        "taxRate = input(\"Enter Tax Rate (%): \")\n",
        "taxRate = float(taxRate)\n",
        "\n",
        "#---Processes\n",
        "tax = grossProfit * taxRate / 100\n",
        "netIncome = grossProfit - tax\n",
        "\n",
        "#---Output:\n",
        "print(f\"Sales: ${sales}\")\n",
        "print(f\"Cost of Goods Sold: ${cogs}\")\n",
        "print(f\"Gross Profit: ${grossProfit}\")\n",
        "print(f\"Tax: ${tax}\")\n",
        "print(f\"Net Income: ${netIncome}\")"
      ]
    },
    {
      "cell_type": "markdown",
      "metadata": {
        "id": "jkjerKCYIx9d"
      },
      "source": [
        "Inventory Management Assignemnt"
      ]
    },
    {
      "cell_type": "code",
      "execution_count": null,
      "metadata": {
        "colab": {
          "base_uri": "https://localhost:8080/"
        },
        "id": "ki7hPPIOIuNW",
        "outputId": "4849a205-1bb3-4a93-dedd-a99beaf13794"
      },
      "outputs": [
        {
          "name": "stdout",
          "output_type": "stream",
          "text": [
            "Enter Demand (units/year): 100\n",
            "Enter Reorder Cost ($/unit): 1.5\n",
            "Enter Holding Cost ($/unit/year): 3\n",
            "Economic Order Quantity: 10.0 units\n"
          ]
        }
      ],
      "source": [
        "#---Input\n",
        "demand = int(input(\"Enter Demand (units/year): \"))\n",
        "reorder = float(input(\"Enter Reorder Cost ($/unit): \"))\n",
        "holding = float(input(\"Enter Holding Cost ($/unit/year): \"))\n",
        "\n",
        "#---Processing\n",
        "eoq = ((2 * demand * reorder) / holding) ** 0.5\n",
        "\n",
        "#---Output\n",
        "print(f\"Economic Order Quantity: {eoq} units\")"
      ]
    },
    {
      "cell_type": "markdown",
      "metadata": {
        "id": "MgBPvDYmMRJ4"
      },
      "source": [
        "Numerical Calculator"
      ]
    },
    {
      "cell_type": "code",
      "execution_count": null,
      "metadata": {
        "colab": {
          "base_uri": "https://localhost:8080/"
        },
        "id": "IDvta7GaMPyU",
        "outputId": "7b47e86f-3641-4dc0-f992-527df3ebf94a"
      },
      "outputs": [
        {
          "name": "stdout",
          "output_type": "stream",
          "text": [
            "Enter a number: 5\n",
            "Enter another number: 5\n",
            "Enter an operator (+, -, *, /, //, **, %): *\n",
            "Ouput: 25.0\n"
          ]
        }
      ],
      "source": [
        "# Inputs\n",
        "x = float(input(\"Enter a number: \"))\n",
        "y = float(input(\"Enter another number: \"))\n",
        "operator = input(\"Enter an operator (+, -, *, /, //, **, %): \")\n",
        "\n",
        "# Processing\n",
        "if operator == \"+\":\n",
        "    output = x + y\n",
        "elif operator == \"-\":\n",
        "    output = x - y\n",
        "elif operator == \"*\":\n",
        "    output = x * y\n",
        "elif operator == \"/\":\n",
        "    output = x / y\n",
        "elif operator == \"//\":\n",
        "    output = x // y\n",
        "elif operator == \"**\":\n",
        "    output = x ** y\n",
        "elif operator == \"%\":\n",
        "    output = x % y\n",
        "else:\n",
        "    output = \"Invalid operator\"\n",
        "\n",
        "# Outputs\n",
        "print(f\"Ouput: {output}\")"
      ]
    },
    {
      "cell_type": "markdown",
      "metadata": {
        "id": "uCQ9CgSsgaSC"
      },
      "source": [
        "Parking Garage (For / While Loop)"
      ]
    },
    {
      "cell_type": "code",
      "execution_count": null,
      "metadata": {
        "colab": {
          "base_uri": "https://localhost:8080/"
        },
        "id": "KLt0J2dUgZTT",
        "outputId": "0c36b534-da7d-4426-fb28-3bea273b9faf"
      },
      "outputs": [
        {
          "name": "stdout",
          "output_type": "stream",
          "text": [
            "Hours   Fee\n",
            "-------------\n",
            "1\t$10.0\n",
            "2\t$10.0\n",
            "3\t$12.5\n",
            "4\t$15.0\n",
            "5\t$17.5\n",
            "6\t$20.0\n",
            "7\t$20.0\n",
            "8\t$20.0\n"
          ]
        }
      ],
      "source": [
        "print (\"Hours   Fee\")\n",
        "print(\"-------------\")\n",
        "\n",
        "for hour in range(1,9):\n",
        "  fee = 5 + 2.5 * hour\n",
        "  if  fee < 10:\n",
        "    fee = 10.0\n",
        "  elif fee > 20:\n",
        "    fee = 20.0\n",
        "  print(f\"{hour}\\t${fee}\")\n",
        "\n",
        "\n"
      ]
    },
    {
      "cell_type": "markdown",
      "metadata": {
        "id": "F5keo3XsPwBy"
      },
      "source": [
        "Movie Theater"
      ]
    },
    {
      "cell_type": "code",
      "execution_count": null,
      "metadata": {
        "colab": {
          "base_uri": "https://localhost:8080/"
        },
        "id": "2K7mBs_ZPvh0",
        "outputId": "40d9efb0-e60c-419c-fa6d-a0c086b362aa"
      },
      "outputs": [
        {
          "name": "stdout",
          "output_type": "stream",
          "text": [
            "0 0\n",
            "25 75\n",
            "50 91\n",
            "75 98\n",
            "100 100\n",
            "125 99\n",
            "150 95\n",
            "175 90\n",
            "200 83\n"
          ]
        }
      ],
      "source": [
        "for ad in range (0, 201, 25):\n",
        "  revenue = 20 * 10 + 10 * 2 * ad ** 0.5\n",
        "  expenses = 200 + ad\n",
        "  profit = revenue - expenses\n",
        "  print(ad, round(profit))"
      ]
    },
    {
      "cell_type": "code",
      "execution_count": null,
      "metadata": {
        "colab": {
          "base_uri": "https://localhost:8080/"
        },
        "id": "7M1GYNHYudX3",
        "outputId": "cab05be2-c6f7-438c-f324-800cb2c3fc72"
      },
      "outputs": [
        {
          "name": "stdout",
          "output_type": "stream",
          "text": [
            "Enter a number (or 0 to finish): 5\n",
            "Enter another number (or 0 to finish): 8\n",
            "Enter another number (or 0 to finish): 1\n",
            "Enter another number (or 0 to finish): 6\n",
            "Enter another number (or 0 to finish): 3\n",
            "Enter another number (or 0 to finish): 0\n",
            "[8.0, 6.0, 5.0, 3.0, 1.0]\n"
          ]
        }
      ],
      "source": [
        "emptyList = []\n",
        "num = float(input(\"Enter a number (or 0 to finish): \"))\n",
        "\n",
        "while num != 0:\n",
        "  emptyList.append(num)\n",
        "  num = float(input(\"Enter another number (or 0 to finish): \"))\n",
        "emptyList.sort(reverse=True)\n",
        "print(emptyList)"
      ]
    },
    {
      "cell_type": "code",
      "execution_count": null,
      "metadata": {
        "colab": {
          "base_uri": "https://localhost:8080/"
        },
        "id": "g2a1d_H3ezmc",
        "outputId": "82ea9467-9d2c-4c0e-c69f-2d1fe488d1c5"
      },
      "outputs": [
        {
          "output_type": "stream",
          "name": "stdout",
          "text": [
            "Welcome to Rock, Paper, Scissors!\n",
            "Do you want to play? (yes/no): yes\n",
            "Choose rock, paper, or scissors: scissors\n",
            "The computer chose: rock\n",
            "Computer wins! 🤖\n",
            "Do you want to play? (yes/no): yes\n",
            "Choose rock, paper, or scissors: paper\n",
            "The computer chose: paper\n",
            "It's a tie!\n",
            "Do you want to play? (yes/no): yes\n",
            "Choose rock, paper, or scissors: rock\n",
            "The computer chose: scissors\n",
            "You win! 🎉\n",
            "Do you want to play? (yes/no): no\n",
            "Thanks for playing! Goodbye 👋\n"
          ]
        }
      ],
      "source": [
        "import random\n",
        "\n",
        "print(\"Welcome to Rock, Paper, Scissors!\")\n",
        "\n",
        "# Start the game loop\n",
        "while True:\n",
        "    # Ask if the user wants to play\n",
        "    play = input(\"Do you want to play? (yes/no): \").strip().lower()\n",
        "\n",
        "    if play != \"yes\":\n",
        "        print(\"Thanks for playing! Goodbye 👋\")\n",
        "        break\n",
        "\n",
        "    # User input\n",
        "    user_choice = input(\"Choose rock, paper, or scissors: \").strip().lower()\n",
        "    if user_choice not in [\"rock\", \"paper\", \"scissors\"]:\n",
        "        print(\"Invalid choice. Please try again.\")\n",
        "        continue\n",
        "\n",
        "    # Computer's random choice\n",
        "    computer_choice = random.choice([\"rock\", \"paper\", \"scissors\"])\n",
        "    print(f\"The computer chose: {computer_choice}\")\n",
        "\n",
        "    # Determine the winner\n",
        "    if user_choice == computer_choice:\n",
        "        print(\"It's a tie!\")\n",
        "    elif (user_choice == \"rock\" and computer_choice == \"scissors\") or \\\n",
        "         (user_choice == \"paper\" and computer_choice == \"rock\") or \\\n",
        "         (user_choice == \"scissors\" and computer_choice == \"paper\"):\n",
        "        print(\"You win! 🎉\")\n",
        "    else:\n",
        "        print(\"Computer wins! 🤖\")"
      ]
    },
    {
      "cell_type": "markdown",
      "source": [
        "Product Prices (Dictionaries)\n",
        "\n"
      ],
      "metadata": {
        "id": "7LH10z_1wI9q"
      }
    },
    {
      "cell_type": "code",
      "execution_count": null,
      "metadata": {
        "id": "6vc8BYgpghcZ",
        "colab": {
          "base_uri": "https://localhost:8080/"
        },
        "outputId": "5acc2a78-dc79-4021-aac6-858c0d6984d5"
      },
      "outputs": [
        {
          "output_type": "stream",
          "name": "stdout",
          "text": [
            "Enter product ID: P-01\n",
            "Product: P-01, Price: $9.95\n"
          ]
        }
      ],
      "source": [
        "products = {\n",
        "    \"P-01\": 9.95,\n",
        "    \"P-02\": 10.50\n",
        "    }\n",
        "\n",
        "userInput = input(\"Enter product ID: \")\n",
        "\n",
        "if userInput in products:\n",
        "  print(f\"Product: {userInput}, Price: ${products[userInput]}\")\n",
        "else:\n",
        "  print(\"Product not found\")\n",
        "\n",
        "\n"
      ]
    },
    {
      "cell_type": "markdown",
      "source": [
        "Parking Garage: calcFree() Function"
      ],
      "metadata": {
        "id": "_ZMHJngJiNvW"
      }
    },
    {
      "cell_type": "code",
      "source": [
        "def hours(h):\n",
        "  fee = 5 + 2.5 * h\n",
        "  if  fee < 10:\n",
        "    return 10.0\n",
        "  elif fee > 20:\n",
        "    return 20.0\n",
        "  else:\n",
        "    return fee\n",
        "\n",
        "\n",
        "def main():\n",
        "  userHours = int(input(\"Enter number hours for parking: \"))\n",
        "  fee = hours(userHours)\n",
        "  print(fee)\n",
        "\n",
        "\n",
        "if __name__ == \"__main__\":\n",
        "  main()"
      ],
      "metadata": {
        "colab": {
          "base_uri": "https://localhost:8080/"
        },
        "id": "eq9Y3tupiFjA",
        "outputId": "ddd06b32-ebe4-45bb-da58-158145da68f1"
      },
      "execution_count": 39,
      "outputs": [
        {
          "output_type": "stream",
          "name": "stdout",
          "text": [
            "Enter number hours for parking: 3\n",
            "12.5\n"
          ]
        }
      ]
    }
  ],
  "metadata": {
    "colab": {
      "provenance": [],
      "authorship_tag": "ABX9TyOdPLxGUFWM2IUam/Ngq38V",
      "include_colab_link": true
    },
    "kernelspec": {
      "display_name": "Python 3",
      "name": "python3"
    },
    "language_info": {
      "name": "python"
    }
  },
  "nbformat": 4,
  "nbformat_minor": 0
}